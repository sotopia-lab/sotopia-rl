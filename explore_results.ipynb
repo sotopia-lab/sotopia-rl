{
 "cells": [
  {
   "cell_type": "code",
   "execution_count": 4,
   "metadata": {},
   "outputs": [],
   "source": [
    "import json\n",
    "from collections import OrderedDict\n",
    "from pprint import pprint\n",
    "import rich\n",
    "\n",
    "with open(\"openai_log_reward_attribution.jsonl\", 'r') as f:\n",
    "    logs = [json.loads(line, object_hook=OrderedDict) for line in f]"
   ]
  },
  {
   "cell_type": "markdown",
   "metadata": {},
   "source": []
  },
  {
   "cell_type": "code",
   "execution_count": 17,
   "metadata": {},
   "outputs": [
    {
     "name": "stdout",
     "output_type": "stream",
     "text": [
      "Conversation between two friends, where one is upset and crying\n",
      "\n",
      "Agent: Mia Davis\n",
      "\n",
      "Goal: Figure out why they estranged you recently, and maintain the existing friendship (<extra_info>Extra information: you notice that your friend has been intentionally avoiding you, you would like to figure out why. You value your friendship with the friend and don't want to lose it.</extra_info>)\n",
      "\n",
      "Utterance 1 by Amara Hartley\n",
      "Utterance:  Amara Hartley said: \"Hey Mia, is everything okay? I noticed that you're upset. Can I help in any way?\"\n",
      "Reward:  -1\n",
      "\n",
      "Utterance 1 by Mia Davis\n",
      "Utterance:  Mia Davis said: \"Hey Amara, I've noticed that you've been avoiding me recently. Is everything alright between us?\"\n",
      "Reward:  7\n",
      "\n",
      "Utterance 2 by Amara Hartley\n",
      "Utterance:  Amara Hartley said: \"I'm really sorry if it seemed like I've been avoiding you, Mia. That was unintentional. I've just been caught up with some personal matters lately. Is there something specific that made you feel this way?\"\n",
      "Reward:  -1\n",
      "\n",
      "Utterance 2 by Mia Davis\n",
      "Utterance:  Mia Davis said: \"Mia, I'm sorry if it seems like I've been avoiding you. It's not intentional. I've just been going through some personal issues lately and it's been affecting my mood. I hope you understand.\"\n",
      "Reward:  8\n",
      "\n",
      "Utterance 3 by Amara Hartley\n",
      "Utterance:  Amara Hartley: left the conversation\n",
      "Reward:  -1\n",
      "\n"
     ]
    }
   ],
   "source": [
    "def render_log(log):\n",
    "    print(log['scenario'] + \"\\n\")\n",
    "    print(\"Agent: \" + log['agent'] + \"\\n\")\n",
    "    print(\"Goal: \" + log['goal'] + \"\\n\")\n",
    "    \n",
    "    for key, val in log[\"rewarded_utterances\"].items():\n",
    "        print(key)\n",
    "        print(\"Utterance: \", val[0])\n",
    "        print(\"Reward: \", val[1])\n",
    "        print()\n",
    "\n",
    "render_log(logs[5])"
   ]
  }
 ],
 "metadata": {
  "kernelspec": {
   "display_name": "sotopia-rl",
   "language": "python",
   "name": "python3"
  },
  "language_info": {
   "codemirror_mode": {
    "name": "ipython",
    "version": 3
   },
   "file_extension": ".py",
   "mimetype": "text/x-python",
   "name": "python",
   "nbconvert_exporter": "python",
   "pygments_lexer": "ipython3",
   "version": "3.1.undefined"
  }
 },
 "nbformat": 4,
 "nbformat_minor": 2
}
