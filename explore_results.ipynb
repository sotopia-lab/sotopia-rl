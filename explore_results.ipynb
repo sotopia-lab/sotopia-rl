{
 "cells": [
  {
   "cell_type": "code",
   "execution_count": 5,
   "metadata": {},
   "outputs": [],
   "source": [
    "import json\n",
    "from collections import OrderedDict\n",
    "from pprint import pprint\n",
    "import rich\n",
    "\n",
    "with open(\"data/openai_log_attribution.jsonl\", 'r') as f:\n",
    "    logs = [json.loads(line, object_hook=OrderedDict) for line in f]"
   ]
  },
  {
   "cell_type": "markdown",
   "metadata": {},
   "source": []
  },
  {
   "cell_type": "code",
   "execution_count": 11,
   "metadata": {},
   "outputs": [
    {
     "name": "stdout",
     "output_type": "stream",
     "text": [
      "Two friends are out for a walk in the park when one of them, One friend, trips and twists their ankle. They are in too much pain to walk.\n",
      "\n",
      "Agent: Samuel Anderson\n",
      "\n",
      "Goal: Help your friend get to a medical facility (<extra_info>Extra information: Your friend needs immediate medical attention but cannot walk due to the pain.</extra_info>)\n",
      "\n",
      "Utterance 0 by Samuel Anderson\n",
      "Utterance:  said: \"Oh man, Ethan, that looks bad. Can't put weight on it, huh? Okay, let me give you a lift, we need to get you to a hospital quickly.\"\n",
      "Attribution:  NA\n",
      "\n",
      "Utterance 0 by Ethan Johnson\n",
      "Utterance:  said: \"I appreciate your offer, Samuel, but I think I should probably call an ambulance. I don't want you to get hurt trying to lift me or for my ankle to get any worse. Also, despite the cost, ambulances are equipped to deal with this kind of thing and it's the safest way to get to a hospital.\"\n",
      "Attribution:  -1\n",
      "\n",
      "Utterance 1 by Samuel Anderson\n",
      "Utterance:  said: \"I completely understand, Ethan. Let's call an ambulance then. I'll stay with you until it arrives. Let's try to keep you as comfortable as possible in the meantime, alright?\"\n",
      "Attribution:  1\n",
      "\n",
      "Utterance 1 by Ethan Johnson\n",
      "Utterance:  said: \"Thanks, Samuel. I really value your company. This might take a while, and I don't want to burden you. One of the few thrills in situations like this is that it gives you a new perspective on things, it's kind of like a plot twist in a novel.\"\n",
      "Attribution:  -1\n",
      "\n",
      "Utterance 2 by Samuel Anderson\n",
      "Utterance:  said: \"No burden at all, Ethan. It's quite an unforeseen event, but we'll get through it together. By the way, you've certainly developed an interesting way of seeing the 'silver lining' in these situations, but I'm glad you're staying positive.\"\n",
      "Attribution:  1\n",
      "\n",
      "Utterance 2 by Ethan Johnson\n",
      "Utterance:  said: \"It's really the small joys that carry us through life, isn't it? A good meal, a story well told, company in trying times. And speaking of meals, when this is over, why don't I cook us up some classic Italian once I've recovered? It's the least I can do for your support.\"\n",
      "Attribution:  -1\n",
      "\n",
      "Utterance 3 by Samuel Anderson\n",
      "Utterance:  said: \"That sounds fantastic, Ethan! I'm in, but only if you're up to it. Meanwhile, let me tell you some stories from my competitive figure skating days to pass the time until the ambulance arrives.\"\n",
      "Attribution:  3\n",
      "\n",
      "Utterance 3 by Ethan Johnson\n",
      "Utterance:  said: \"I'd love to hear those stories, Samuel. The escapism would definitely help. Brighten the mood a bit, wouldn't it? Go on, I'm all ears.\"\n",
      "Attribution:  -1\n",
      "\n",
      "Utterance 4 by Samuel Anderson\n",
      "Utterance:  said: \"Alright Ethan, let's kick off with my first ever competition. I was just 15 and incredibly nervous. I was up against some of the best skaters in the region...\"\n",
      "Attribution:  1\n",
      "\n",
      "Utterance 4 by Ethan Johnson\n",
      "Utterance:  said: \"That sounds like quite an adventure, Samuel. And it's comforting to hear about your experiences while waiting. Looking forward to more of these stories.\"\n",
      "Attribution:  -1\n",
      "\n",
      "Utterance 5 by Samuel Anderson\n",
      "Utterance:  said: \"I'm glad you're enjoying the stories, Ethan. Once, in a national competition, I was dead last going into the freestyle program...\"\n",
      "Attribution:  1\n",
      "\n",
      "Utterance 5 by Ethan Johnson\n",
      "Utterance:  said: \"That's quite the come-back story. It takes a lot of mental strength to face situations like that and not give up. I think we can agree that life's challenges make for the best narratives, be it on ice or in a novel. Can't wait to hear what happened next, Samuel.\"\n",
      "Attribution:  -1\n",
      "\n",
      "Utterance 6 by Samuel Anderson\n",
      "Utterance:  said: \"Very true, Ethan. Life is certainly unexpected. Well, during that freestyle program, something miraculous happened. I executed all my jumps flawlessly resulting in my first national medal! I guess adversity can certainly lead to success in the most unexpected ways. By the way, do you see the ambulance lights? Help is finally here.\"\n",
      "Attribution:  NA\n",
      "\n",
      "Utterance 6 by Ethan Johnson\n",
      "Utterance:  said: \"That's an incredible story, Samuel. I find it inspiring, handling pressure and uncertainty with such tenacity! And yes, I do see the lights, relief is indeed nearing. Thank you for being here with me. Don't forget about our Italian meal plan when all this is over!\"\n",
      "Attribution:  -1\n",
      "\n",
      "Utterance 7 by Samuel Anderson\n",
      "Utterance:  said: \"No problem at all, Ethan. And the Italian meal plan is definitely on. After all, we both share a love for good food, it's only apt we celebrate your recovery with it. Now let's get you some medical help, the ambulance is here.\"\n",
      "Attribution:  2\n",
      "\n",
      "Utterance 7 by Ethan Johnson\n",
      "Utterance:  left the conversation\n",
      "Attribution:  -1\n",
      "\n"
     ]
    }
   ],
   "source": [
    "def render_log(log):\n",
    "    print(log['scenario'] + \"\\n\")\n",
    "    print(\"Agent: \" + log['agent'] + \"\\n\")\n",
    "    print(\"Goal: \" + log['goal'] + \"\\n\")\n",
    "    \n",
    "    for key, val in log[\"attributed_utterances\"].items():\n",
    "        print(key)\n",
    "        print(\"Utterance: \", val[0])\n",
    "        print(\"Attribution: \", val[1] if val[1] else \"NA\")\n",
    "        print()\n",
    "\n",
    "render_log(logs[2])"
   ]
  },
  {
   "cell_type": "code",
   "execution_count": 12,
   "metadata": {},
   "outputs": [],
   "source": [
    "import json\n",
    "from collections import OrderedDict\n",
    "from pprint import pprint\n",
    "import rich\n",
    "\n",
    "with open(\"data/human_log_attribution.jsonl\", 'r') as f:\n",
    "    human_logs = [json.loads(line, object_hook=OrderedDict) for line in f]"
   ]
  },
  {
   "cell_type": "code",
   "execution_count": 14,
   "metadata": {},
   "outputs": [
    {
     "name": "stdout",
     "output_type": "stream",
     "text": [
      "Two friends are out for a walk in the park when one of them, One friend, trips and twists their ankle. They are in too much pain to walk.\n",
      "\n",
      "Agent: Samuel Anderson\n",
      "\n",
      "Goal: Help your friend get to a medical facility (<extra_info>Extra information: Your friend needs immediate medical attention but cannot walk due to the pain.</extra_info>)\n",
      "\n",
      "['said: \"Oh man, Ethan, that looks bad. Can\\'t put weight on it, huh? Okay, let me give you a lift, we need to get you to a hospital quickly.\"', 0, OrderedDict([('2024-04-23T20:52:34.869125Z', 3), ('2024-04-30T05:43:24.021532Z', 1)])]\n",
      "Utterance 0 by Samuel Anderson\n",
      "Utterance:  said: \"Oh man, Ethan, that looks bad. Can't put weight on it, huh? Okay, let me give you a lift, we need to get you to a hospital quickly.\"\n",
      "Attribution:  OrderedDict([('2024-04-23T20:52:34.869125Z', 3), ('2024-04-30T05:43:24.021532Z', 1)])\n",
      "\n",
      "['said: \"I appreciate your offer, Samuel, but I think I should probably call an ambulance. I don\\'t want you to get hurt trying to lift me or for my ankle to get any worse. Also, despite the cost, ambulances are equipped to deal with this kind of thing and it\\'s the safest way to get to a hospital.\"', -1]\n",
      "Utterance 0 by Ethan Johnson\n",
      "Utterance:  said: \"I appreciate your offer, Samuel, but I think I should probably call an ambulance. I don't want you to get hurt trying to lift me or for my ankle to get any worse. Also, despite the cost, ambulances are equipped to deal with this kind of thing and it's the safest way to get to a hospital.\"\n"
     ]
    },
    {
     "ename": "IndexError",
     "evalue": "list index out of range",
     "output_type": "error",
     "traceback": [
      "\u001b[0;31m---------------------------------------------------------------------------\u001b[0m",
      "\u001b[0;31mIndexError\u001b[0m                                Traceback (most recent call last)",
      "Cell \u001b[0;32mIn[14], line 13\u001b[0m\n\u001b[1;32m     10\u001b[0m         \u001b[38;5;28mprint\u001b[39m(\u001b[38;5;124m\"\u001b[39m\u001b[38;5;124mAttribution: \u001b[39m\u001b[38;5;124m\"\u001b[39m, val[\u001b[38;5;241m2\u001b[39m] \u001b[38;5;28;01mif\u001b[39;00m val[\u001b[38;5;241m2\u001b[39m] \u001b[38;5;28;01melse\u001b[39;00m \u001b[38;5;124m\"\u001b[39m\u001b[38;5;124mNA\u001b[39m\u001b[38;5;124m\"\u001b[39m)\n\u001b[1;32m     11\u001b[0m         \u001b[38;5;28mprint\u001b[39m()\n\u001b[0;32m---> 13\u001b[0m \u001b[43mrender_log\u001b[49m\u001b[43m(\u001b[49m\u001b[43mhuman_logs\u001b[49m\u001b[43m[\u001b[49m\u001b[38;5;241;43m2\u001b[39;49m\u001b[43m]\u001b[49m\u001b[43m)\u001b[49m\n",
      "Cell \u001b[0;32mIn[14], line 10\u001b[0m, in \u001b[0;36mrender_log\u001b[0;34m(log)\u001b[0m\n\u001b[1;32m      8\u001b[0m \u001b[38;5;28mprint\u001b[39m(key)\n\u001b[1;32m      9\u001b[0m \u001b[38;5;28mprint\u001b[39m(\u001b[38;5;124m\"\u001b[39m\u001b[38;5;124mUtterance: \u001b[39m\u001b[38;5;124m\"\u001b[39m, val[\u001b[38;5;241m0\u001b[39m])\n\u001b[0;32m---> 10\u001b[0m \u001b[38;5;28mprint\u001b[39m(\u001b[38;5;124m\"\u001b[39m\u001b[38;5;124mAttribution: \u001b[39m\u001b[38;5;124m\"\u001b[39m, val[\u001b[38;5;241m2\u001b[39m] \u001b[38;5;28;01mif\u001b[39;00m \u001b[43mval\u001b[49m\u001b[43m[\u001b[49m\u001b[38;5;241;43m2\u001b[39;49m\u001b[43m]\u001b[49m \u001b[38;5;28;01melse\u001b[39;00m \u001b[38;5;124m\"\u001b[39m\u001b[38;5;124mNA\u001b[39m\u001b[38;5;124m\"\u001b[39m)\n\u001b[1;32m     11\u001b[0m \u001b[38;5;28mprint\u001b[39m()\n",
      "\u001b[0;31mIndexError\u001b[0m: list index out of range"
     ]
    }
   ],
   "source": [
    "def render_log(log):\n",
    "    print(log['scenario'] + \"\\n\")\n",
    "    print(\"Agent: \" + log['agent'] + \"\\n\")\n",
    "    print(\"Goal: \" + log['goal'] + \"\\n\")\n",
    "    \n",
    "    for key, val in log[\"attributed_utterances\"].items():\n",
    "        print(val)\n",
    "        print(key)\n",
    "        print(\"Utterance: \", val[0])\n",
    "        print(\"Attribution: \", val[2] if val[2] else \"NA\")\n",
    "        print()\n",
    "\n",
    "render_log(human_logs[2])"
   ]
  }
 ],
 "metadata": {
  "kernelspec": {
   "display_name": "sotopia-rl",
   "language": "python",
   "name": "python3"
  },
  "language_info": {
   "codemirror_mode": {
    "name": "ipython",
    "version": 3
   },
   "file_extension": ".py",
   "mimetype": "text/x-python",
   "name": "python",
   "nbconvert_exporter": "python",
   "pygments_lexer": "ipython3",
   "version": "3.11.8"
  }
 },
 "nbformat": 4,
 "nbformat_minor": 2
}
