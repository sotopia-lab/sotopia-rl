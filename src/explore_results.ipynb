{
 "cells": [
  {
   "cell_type": "code",
   "execution_count": null,
   "metadata": {},
   "outputs": [],
   "source": [
    "import json\n",
    "from collections import OrderedDict\n",
    "from pprint import pprint\n",
    "import rich\n",
    "\n",
    "with open(\"openai_log_reward_attribution.jsonl\", 'r') as f:\n",
    "    logs = [json.loads(line, object_hook=OrderedDict) for line in f]"
   ]
  },
  {
   "cell_type": "markdown",
   "metadata": {},
   "source": []
  },
  {
   "cell_type": "code",
   "execution_count": null,
   "metadata": {},
   "outputs": [],
   "source": [
    "def render_log(log):\n",
    "    print(log['scenario'] + \"\\n\")\n",
    "    print(\"Agent: \" + log['agent'] + \"\\n\")\n",
    "    print(\"Goal: \" + log['goal'] + \"\\n\")\n",
    "    \n",
    "    for key, val in log[\"rewarded_utterances\"].items():\n",
    "        print(key)\n",
    "        print(\"Utterance: \", val[0])\n",
    "        print(\"Reward: \", val[1])\n",
    "        print()\n",
    "\n",
    "render_log(logs[5])"
   ]
  }
 ],
 "metadata": {
  "kernelspec": {
   "display_name": "sotopia-rl",
   "language": "python",
   "name": "python3"
  },
  "language_info": {
   "codemirror_mode": {
    "name": "ipython",
    "version": 3
   },
   "file_extension": ".py",
   "mimetype": "text/x-python",
   "name": "python",
   "nbconvert_exporter": "python",
   "pygments_lexer": "ipython3",
   "version": "3.1.undefined"
  }
 },
 "nbformat": 4,
 "nbformat_minor": 2
}
